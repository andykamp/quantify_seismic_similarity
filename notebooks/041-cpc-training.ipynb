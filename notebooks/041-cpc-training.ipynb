{
 "cells": [
  {
   "cell_type": "code",
   "execution_count": 3,
   "metadata": {
    "scrolled": false
   },
   "outputs": [
    {
     "name": "stdout",
     "output_type": "stream",
     "text": [
      "The autoreload extension is already loaded. To reload it, use:\n",
      "  %reload_ext autoreload\n"
     ]
    },
    {
     "name": "stderr",
     "output_type": "stream",
     "text": [
      "/usr/local/lib/python3.7/site-packages/tensorflow/python/framework/dtypes.py:516: FutureWarning: Passing (type, 1) or '1type' as a synonym of type is deprecated; in a future version of numpy, it will be understood as (type, (1,)) / '(1,)type'.\n",
      "  _np_qint8 = np.dtype([(\"qint8\", np.int8, 1)])\n",
      "/usr/local/lib/python3.7/site-packages/tensorflow/python/framework/dtypes.py:517: FutureWarning: Passing (type, 1) or '1type' as a synonym of type is deprecated; in a future version of numpy, it will be understood as (type, (1,)) / '(1,)type'.\n",
      "  _np_quint8 = np.dtype([(\"quint8\", np.uint8, 1)])\n",
      "/usr/local/lib/python3.7/site-packages/tensorflow/python/framework/dtypes.py:518: FutureWarning: Passing (type, 1) or '1type' as a synonym of type is deprecated; in a future version of numpy, it will be understood as (type, (1,)) / '(1,)type'.\n",
      "  _np_qint16 = np.dtype([(\"qint16\", np.int16, 1)])\n",
      "/usr/local/lib/python3.7/site-packages/tensorflow/python/framework/dtypes.py:519: FutureWarning: Passing (type, 1) or '1type' as a synonym of type is deprecated; in a future version of numpy, it will be understood as (type, (1,)) / '(1,)type'.\n",
      "  _np_quint16 = np.dtype([(\"quint16\", np.uint16, 1)])\n",
      "/usr/local/lib/python3.7/site-packages/tensorflow/python/framework/dtypes.py:520: FutureWarning: Passing (type, 1) or '1type' as a synonym of type is deprecated; in a future version of numpy, it will be understood as (type, (1,)) / '(1,)type'.\n",
      "  _np_qint32 = np.dtype([(\"qint32\", np.int32, 1)])\n",
      "/usr/local/lib/python3.7/site-packages/tensorflow/python/framework/dtypes.py:525: FutureWarning: Passing (type, 1) or '1type' as a synonym of type is deprecated; in a future version of numpy, it will be understood as (type, (1,)) / '(1,)type'.\n",
      "  np_resource = np.dtype([(\"resource\", np.ubyte, 1)])\n",
      "/usr/local/lib/python3.7/site-packages/tensorboard/compat/tensorflow_stub/dtypes.py:541: FutureWarning: Passing (type, 1) or '1type' as a synonym of type is deprecated; in a future version of numpy, it will be understood as (type, (1,)) / '(1,)type'.\n",
      "  _np_qint8 = np.dtype([(\"qint8\", np.int8, 1)])\n",
      "/usr/local/lib/python3.7/site-packages/tensorboard/compat/tensorflow_stub/dtypes.py:542: FutureWarning: Passing (type, 1) or '1type' as a synonym of type is deprecated; in a future version of numpy, it will be understood as (type, (1,)) / '(1,)type'.\n",
      "  _np_quint8 = np.dtype([(\"quint8\", np.uint8, 1)])\n",
      "/usr/local/lib/python3.7/site-packages/tensorboard/compat/tensorflow_stub/dtypes.py:543: FutureWarning: Passing (type, 1) or '1type' as a synonym of type is deprecated; in a future version of numpy, it will be understood as (type, (1,)) / '(1,)type'.\n",
      "  _np_qint16 = np.dtype([(\"qint16\", np.int16, 1)])\n",
      "/usr/local/lib/python3.7/site-packages/tensorboard/compat/tensorflow_stub/dtypes.py:544: FutureWarning: Passing (type, 1) or '1type' as a synonym of type is deprecated; in a future version of numpy, it will be understood as (type, (1,)) / '(1,)type'.\n",
      "  _np_quint16 = np.dtype([(\"quint16\", np.uint16, 1)])\n",
      "/usr/local/lib/python3.7/site-packages/tensorboard/compat/tensorflow_stub/dtypes.py:545: FutureWarning: Passing (type, 1) or '1type' as a synonym of type is deprecated; in a future version of numpy, it will be understood as (type, (1,)) / '(1,)type'.\n",
      "  _np_qint32 = np.dtype([(\"qint32\", np.int32, 1)])\n",
      "/usr/local/lib/python3.7/site-packages/tensorboard/compat/tensorflow_stub/dtypes.py:550: FutureWarning: Passing (type, 1) or '1type' as a synonym of type is deprecated; in a future version of numpy, it will be understood as (type, (1,)) / '(1,)type'.\n",
      "  np_resource = np.dtype([(\"resource\", np.ubyte, 1)])\n",
      "Using TensorFlow backend.\n"
     ]
    }
   ],
   "source": [
    "%load_ext autoreload\n",
    "%autoreload 2\n",
    "%matplotlib inline\n",
    "import matplotlib\n",
    "import matplotlib.pyplot as plt\n",
    "import numpy as np\n",
    "\n",
    "# Path hack.\n",
    "import sys, os\n",
    "from os.path import join, basename, dirname, exists\n",
    "sys.path.insert(0, os.path.abspath('..'))\n",
    "from scripts.data_utils.generators import SeismicGenerator, SequencePathGenerator\n",
    "from scripts.data_utils.grid_utils import blockshaped, unblockshaped, plot_embeddings\n",
    "from cpc.train_model_seimsic import network_encoder, network_autoregressive, network_prediction, CPCLayer, network_cpc, train_model\n",
    "\n",
    "# declare parent dir name \n",
    "dirname = sys.path[0] # parent directory\n",
    "\n",
    "\"\"\"\n",
    "Representation Learning with Contrastive Predictive Coding\n",
    "The goal of unsupervised representation learning is to capture semantic information about the world,\n",
    "recognizing patterns in the data without using annotations. \n",
    "This paper presents a new method called Contrastive Predictive Coding (CPC) that can do so across multiple applications. \n",
    "The main ideas of the paper are:\n",
    "* Contrastive: it is trained using a contrastive approach, that is,\n",
    "  the main model has to discern between *right* and *wrong* data sequences.\n",
    "* Predictive: the model has to predict future patterns given the current context.\n",
    "* Coding: the model performs this prediction in a latent space, transforming code vectors \n",
    "  into other code vectors (in contrast with predicting high-dimensional data directly).\n",
    "\n",
    "CPC has to predict the next item in a sequence using only an embedded representation of the data, \n",
    "xrovided by an encoder. In order to solve the task, this encoder has to learn a meaningful representation \n",
    "of the data space. After training, this encoder can be used for other downstream tasks like supervised classification.\n",
    "\n",
    "\n",
    "\n",
    "\n",
    "The cpc article descibes the following pattern:\n",
    "\n",
    "Pre-processing:\n",
    "-(own) from a random iline/xline/tline > 256*256 we extract pathces of 256x256 using sklearn image.extract_patches_2d\n",
    "-from a 256x256 image we extract a 7x7 grid of 64x64 crops\n",
    "with 32 pixels overlap. \n",
    "\n",
    "-(TODO)Simple data augmentation proved helpful on both the 256x256 images and the\n",
    "64x64 crops. \n",
    "-(DONE)The 256x256 images are randomly cropped from a 300x300 image\n",
    "- horizontally flipped with a probability of 50% and converted to greyscale. \n",
    "-For each of the 64x64 crops we randomly take\n",
    "a 60x60 subcrop and pad them back to a 64x64 image.\n",
    "-MNIST example uses RGB channels. Seimsic is grayscale. Would it help to pick and generate x attributes as channels\n",
    "Encoder:\n",
    "-(DONE)Each crop is then encoded by the ResNet-v2-101 encoder\n",
    "- (DONE)We use the outputs from the third residual\n",
    "block, and spatially mean-pool to get a single 1024-d vector per 64x64 patch. This results in a\n",
    "7x7x1024 tensor.\n",
    "\"\"\"\n",
    "\n",
    "# change the patch_size and stride to get different girds. if stride is less than patch_size--> we have overlap on each grid cell\n",
    "image_size = 256\n",
    "patch_size = 64\n",
    "stride=32\n"
   ]
  },
  {
   "cell_type": "code",
   "execution_count": null,
   "metadata": {
    "scrolled": true
   },
   "outputs": [],
   "source": [
    "# train model \n",
    "import time\n",
    "timestr = time.strftime(\"%Y%m%d-%H%M%S\")\n",
    "print(timestr)\n",
    "train_model(\n",
    "        epochs=5,\n",
    "        batch_size=1,\n",
    "        output_dir='models/cpc/seismic_64x64_'+ timestr,\n",
    "        code_size=1024,\n",
    "        lr=1e-3,\n",
    "        terms=3,\n",
    "        predict_terms=4,\n",
    "        patch_size=64,\n",
    "    )\n",
    "print(\"Done training\")"
   ]
  },
  {
   "cell_type": "code",
   "execution_count": null,
   "metadata": {},
   "outputs": [],
   "source": [
    "#TODO NEED TO SPECIDY steps_per_epoch"
   ]
  }
 ],
 "metadata": {
  "file_extension": ".py",
  "kernelspec": {
   "display_name": "Python 3.7.6 64-bit",
   "language": "python",
   "name": "python37664bitb96944b1ac9148ad9284e9467e9d3a20"
  },
  "language_info": {
   "codemirror_mode": {
    "name": "ipython",
    "version": 3
   },
   "file_extension": ".py",
   "mimetype": "text/x-python",
   "name": "python",
   "nbconvert_exporter": "python",
   "pygments_lexer": "ipython3",
   "version": "3.7.6"
  },
  "mimetype": "text/x-python",
  "name": "python",
  "npconvert_exporter": "python",
  "pygments_lexer": "ipython3",
  "version": 3
 },
 "nbformat": 4,
 "nbformat_minor": 2
}
